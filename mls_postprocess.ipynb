{
 "cells": [
  {
   "cell_type": "code",
   "execution_count": 47,
   "id": "d333f880-e062-4b9b-89e4-83717a29613f",
   "metadata": {},
   "outputs": [],
   "source": [
    "import nrrd\n",
    "import numpy as np\n",
    "import ipywidgets as widgets\n",
    "from IPython.display import display\n",
    "from ipywidgets import interact, IntSlider, fixed\n",
    "import matplotlib.pyplot as plt\n",
    "import SimpleITK as sitk\n",
    "from sklearn.linear_model import LinearRegression\n",
    "from scipy.special import comb"
   ]
  },
  {
   "cell_type": "code",
   "execution_count": 25,
   "id": "21eb8200-07c8-448f-8c70-98f57b14763b",
   "metadata": {},
   "outputs": [],
   "source": [
    "# image 001\n",
    "# ct_image_path = './001/Volume_ID_47383217.nrrd'\n",
    "# segmentation_path = './001/ID_47383217_segmentation.seg.nrrd'\n",
    "\n",
    "# image 002\n",
    "ct_image_path = './002/Volume_ID_40ed7f97.nrrd'\n",
    "segmentation_path = './002/ID_40ed7f97_segmentation.seg.nrrd'\n",
    "\n",
    "# image 003\n",
    "# ct_image_path = './003/Volume_ID_2b0fd57d.nrrd'\n",
    "# segmentation_path = './003/ID_2b0fd57d_segmentation.seg.nrrd'\n",
    "\n",
    "# image 004\n",
    "# ct_image_path = './004/Volume_ID_24708241.nrrd'\n",
    "# segmentation_path = './004/ID_24708241_segmentation.seg.nrrd'\n"
   ]
  },
  {
   "cell_type": "markdown",
   "id": "c0cf8845-9985-44e3-b16c-be03dab1198a",
   "metadata": {},
   "source": [
    "# Prepare image"
   ]
  },
  {
   "cell_type": "code",
   "execution_count": 26,
   "id": "b025d031-9edc-4d42-a544-e6e87bb5564f",
   "metadata": {},
   "outputs": [],
   "source": [
    "ct_image, ct_image_header = nrrd.read(ct_image_path)\n",
    "segmentation, segmentation_header = nrrd.read(segmentation_path)"
   ]
  },
  {
   "cell_type": "code",
   "execution_count": 27,
   "id": "34da3873-9961-47e0-9c37-a6dd823fe5e3",
   "metadata": {},
   "outputs": [
    {
     "data": {
      "text/plain": [
       "(512, 512, 38)"
      ]
     },
     "execution_count": 27,
     "metadata": {},
     "output_type": "execute_result"
    }
   ],
   "source": [
    "ct_image.shape"
   ]
  },
  {
   "cell_type": "code",
   "execution_count": 28,
   "id": "3cc38eed-0962-42d1-98b1-bddc21be793e",
   "metadata": {},
   "outputs": [],
   "source": [
    "ct_image = np.transpose(ct_image, (1,0,2))"
   ]
  },
  {
   "cell_type": "code",
   "execution_count": 29,
   "id": "05aed50b-2003-4104-ae11-45c689916438",
   "metadata": {},
   "outputs": [
    {
     "data": {
      "text/plain": [
       "(512, 512, 38)"
      ]
     },
     "execution_count": 29,
     "metadata": {},
     "output_type": "execute_result"
    }
   ],
   "source": [
    "ct_image.shape"
   ]
  },
  {
   "cell_type": "code",
   "execution_count": 30,
   "id": "2ba180cb-969c-4ae1-a44f-441a2179a6c4",
   "metadata": {},
   "outputs": [],
   "source": [
    "af_points = np.argwhere(segmentation==1)\n",
    "pf_points = np.argwhere(segmentation==2)\n",
    "sp_points = np.argwhere(segmentation==3)"
   ]
  },
  {
   "cell_type": "code",
   "execution_count": 31,
   "id": "bda63765-58ea-4a4f-b15f-4f574a50a069",
   "metadata": {},
   "outputs": [],
   "source": [
    "def plot_slices(slice_index):\n",
    "    plt.imshow(ct_image[:, :, slice_index], cmap='gray', clim=(-10,110))"
   ]
  },
  {
   "cell_type": "code",
   "execution_count": 32,
   "id": "0d4d017e-00e7-4224-b29b-3a123ed1b2cf",
   "metadata": {},
   "outputs": [],
   "source": [
    "slice_slider = widgets.IntSlider(min=0, max=ct_image.shape[2]-1, step=1, value=0, description='Slice')"
   ]
  },
  {
   "cell_type": "code",
   "execution_count": 33,
   "id": "a30d21a5-620e-4551-b5f4-9dec075adc72",
   "metadata": {},
   "outputs": [
    {
     "data": {
      "application/vnd.jupyter.widget-view+json": {
       "model_id": "89bb885b2227405fa54ee4d14b4440b4",
       "version_major": 2,
       "version_minor": 0
      },
      "text/plain": [
       "interactive(children=(IntSlider(value=0, description='Slice', max=37), Output()), _dom_classes=('widget-intera…"
      ]
     },
     "metadata": {},
     "output_type": "display_data"
    },
    {
     "data": {
      "text/plain": [
       "<function __main__.plot_slices(slice_index)>"
      ]
     },
     "execution_count": 33,
     "metadata": {},
     "output_type": "execute_result"
    }
   ],
   "source": [
    "widgets.interact(plot_slices, slice_index=slice_slider)"
   ]
  },
  {
   "cell_type": "code",
   "execution_count": 34,
   "id": "e08210af-54f1-440a-b578-8bf9397924cf",
   "metadata": {},
   "outputs": [],
   "source": [
    "combined_falx = np.vstack((af_points, pf_points))"
   ]
  },
  {
   "cell_type": "markdown",
   "id": "7f9b5f87-c099-41ef-b03a-3702d2e8632d",
   "metadata": {},
   "source": [
    "# Define visualization functions"
   ]
  },
  {
   "cell_type": "code",
   "execution_count": null,
   "id": "6d11cf6a-f784-4b20-b887-fc37aa4533be",
   "metadata": {},
   "outputs": [],
   "source": [
    "# Visualization functions to overlay intersection of plane with each axial slice\n",
    "\n",
    "# Create x and y values representing intersection of plane with a certain z axis\n",
    "def compute_line_at_z(z, plane, image):\n",
    "    A, B, C, D = plane\n",
    "    # Solve for y as a function of x for a fixed z\n",
    "    x_values = np.linspace(0, image.shape[0] - 1, 100)\n",
    "    y_values = (-A * x_values - C * z - D) / B\n",
    "    return x_values, y_values\n",
    "\n",
    "# Plotting function that will be used interactively in jupyter notebook\n",
    "def plot_slice(z_index, image, plane, segmentation):\n",
    "    \n",
    "    # Extract the specific slice\n",
    "    slice_data = image[:, :, z_index]\n",
    "\n",
    "    # Extract components of plane equation\n",
    "    A, B, C, D = plane\n",
    "    \n",
    "    # Compute the intersection line at this z level\n",
    "    x_line, y_line = compute_line_at_z(z_index, plane, image)\n",
    "    \n",
    "    # Create the plot\n",
    "    plt.figure(figsize=(8, 8))\n",
    "    plt.imshow(slice_data, cmap='gray', clim=(-10,110))\n",
    "\n",
    "    # We also overlay segmentation of anterior falx, posterior falx, and septum pellucidum to get an idea of fit of line\n",
    "    masked_af = np.ma.masked_where(segmentation[:, :, z_index] != 1, segmentation[:, :, z_index]).T\n",
    "    masked_pf = np.ma.masked_where(segmentation[:, :, z_index] != 2, segmentation[:, :, z_index]).T\n",
    "    masked_sp = np.ma.masked_where(segmentation[:, :, z_index] != 3, segmentation[:, :, z_index]).T\n",
    "    plt.imshow(masked_af)\n",
    "    plt.imshow(masked_pf)\n",
    "    plt.imshow(masked_sp)\n",
    "    \n",
    "    # Plot the intersection line\n",
    "    plt.plot(x_line, y_line, 'r-', label=f'Intersection Line at z = {z_index:.2f}')\n",
    "    plt.xlim(0, image.shape[0])\n",
    "    plt.ylim(0, image.shape[1])\n",
    "    plt.title(f'Slice at z = {z_index}')\n",
    "    plt.legend()\n",
    "    plt.show()"
   ]
  },
  {
   "cell_type": "markdown",
   "id": "ab6c34e0-db6d-4c4d-9775-dcb2ef69b18e",
   "metadata": {},
   "source": [
    "# Fit a plane that will be orthogonal to xy plane/parallel to z axis (simple regression) (approach 1)"
   ]
  },
  {
   "cell_type": "code",
   "execution_count": 35,
   "id": "a96aeb7e-3828-48ee-9d7e-84e94fae5573",
   "metadata": {},
   "outputs": [],
   "source": [
    "x_points = combined_falx[:,0].reshape(-1,1)"
   ]
  },
  {
   "cell_type": "code",
   "execution_count": 36,
   "id": "8a024cfc-896b-4c4a-94a7-e3596f757242",
   "metadata": {},
   "outputs": [],
   "source": [
    "y_points = combined_falx[:,1].reshape(-1,1)"
   ]
  },
  {
   "cell_type": "code",
   "execution_count": 37,
   "id": "1ab481f1-1b46-4845-986d-d1923bbecf4a",
   "metadata": {},
   "outputs": [],
   "source": [
    "reg = LinearRegression().fit(x_points, y_points)"
   ]
  },
  {
   "cell_type": "code",
   "execution_count": 38,
   "id": "b17b6799-9bc8-41a7-834d-666a18ca14e4",
   "metadata": {},
   "outputs": [],
   "source": [
    "a = reg.coef_[0][0]\n",
    "b = reg.intercept_[0]"
   ]
  },
  {
   "cell_type": "code",
   "execution_count": 39,
   "id": "707af5a7-2a8a-4a6b-a28a-bfca36a6a6fe",
   "metadata": {},
   "outputs": [
    {
     "name": "stdout",
     "output_type": "stream",
     "text": [
      "The equation of the line that best fits these points is: y = -5.190x + 1549.512\n"
     ]
    }
   ],
   "source": [
    "print(f\"The equation of the line that best fits these points is: y = {a:.3f}x + {b:.3f}\")"
   ]
  },
  {
   "cell_type": "code",
   "execution_count": 40,
   "id": "d15833b1-5d95-4919-8c0d-3a665234518d",
   "metadata": {},
   "outputs": [],
   "source": [
    "# plane Ax + By + Cz + D = 0\n",
    "A1 = a\n",
    "B1 = -1\n",
    "C1 = 0\n",
    "D1 = b\n",
    "plane1 = (A1, B1, C1, D1)"
   ]
  },
  {
   "cell_type": "code",
   "execution_count": 41,
   "id": "a823932c-898d-4ea6-ad27-a8e7c3ee9ee1",
   "metadata": {},
   "outputs": [
    {
     "name": "stdout",
     "output_type": "stream",
     "text": [
      "Plane equation: -5.19x + -1.0000000000y + 0.00z + 1549.51 = 0\n"
     ]
    }
   ],
   "source": [
    "print(f\"Plane equation: {A1:.2f}x + {B1:.10f}y + {C1:.2f}z + {D1:.2f} = 0\")"
   ]
  },
  {
   "cell_type": "code",
   "execution_count": 44,
   "id": "1bc24cfc-1304-4d2f-948a-87a1aa7d1502",
   "metadata": {},
   "outputs": [],
   "source": [
    "z_slider = IntSlider(min=0, max=ct_image.shape[2] - 1, step=1, value=0, description='Slice')"
   ]
  },
  {
   "cell_type": "code",
   "execution_count": 48,
   "id": "335afa64-c523-444f-b006-eac6034e44a6",
   "metadata": {},
   "outputs": [
    {
     "data": {
      "application/vnd.jupyter.widget-view+json": {
       "model_id": "e6b284c82e514444afd09ec685f18f1e",
       "version_major": 2,
       "version_minor": 0
      },
      "text/plain": [
       "interactive(children=(IntSlider(value=0, description='Slice', max=37), Output()), _dom_classes=('widget-intera…"
      ]
     },
     "metadata": {},
     "output_type": "display_data"
    },
    {
     "data": {
      "text/plain": [
       "<function __main__.plot_slice(z_index, image, plane, segmentation)>"
      ]
     },
     "execution_count": 48,
     "metadata": {},
     "output_type": "execute_result"
    }
   ],
   "source": [
    "interact(plot_slice, z_index=z_slider, image = fixed(ct_image), plane=fixed(plane1), segmentation=fixed(segmentation))"
   ]
  },
  {
   "cell_type": "markdown",
   "id": "78f82cf9-629f-4ce1-8cca-cb145ec24592",
   "metadata": {},
   "source": [
    "# Fit a plane through all points while considering z coordinates (SVD) (approach 2)"
   ]
  },
  {
   "cell_type": "code",
   "execution_count": 49,
   "id": "1460bf95-3afe-4f6e-ba02-5f2c7124e863",
   "metadata": {},
   "outputs": [],
   "source": [
    "mean_point = np.mean(combined_falx, axis=0)\n",
    "centered_points = combined_falx - mean_point"
   ]
  },
  {
   "cell_type": "code",
   "execution_count": 50,
   "id": "15f01ea4-dad8-437c-a7ed-4c43ab90858e",
   "metadata": {},
   "outputs": [],
   "source": [
    "U, S, Vt = np.linalg.svd(centered_points)\n",
    "normal_vector = Vt[-1]\n",
    "A2, B2, C2 = normal_vector\n",
    "D2 = -np.dot(normal_vector, mean_point)"
   ]
  },
  {
   "cell_type": "code",
   "execution_count": 51,
   "id": "4847dd3b-e609-4058-89b4-99ae363cc87e",
   "metadata": {
    "scrolled": true
   },
   "outputs": [
    {
     "name": "stdout",
     "output_type": "stream",
     "text": [
      "Plane equation: 0.40x + 0.0616706468y + -0.91z + -94.15 = 0\n"
     ]
    }
   ],
   "source": [
    "print(f\"Plane equation: {A2:.2f}x + {B2:.10f}y + {C2:.2f}z + {D2:.2f} = 0\")"
   ]
  },
  {
   "cell_type": "code",
   "execution_count": 52,
   "id": "bd110e67-4d4a-42e5-a984-dfeb1b75ceda",
   "metadata": {},
   "outputs": [],
   "source": [
    "plane2 = (A2, B2, C2, D2)"
   ]
  },
  {
   "cell_type": "code",
   "execution_count": 108,
   "id": "0eda2419-05ab-421f-96f0-4f1bf30cde7b",
   "metadata": {},
   "outputs": [],
   "source": [
    "z_slider = IntSlider(min=0, max=ct_image.shape[2] - 1, step=1, value=0, description='Slice')"
   ]
  },
  {
   "cell_type": "code",
   "execution_count": 53,
   "id": "f6d7fc63-ec2b-4c22-ba8f-2ae9bc8d2410",
   "metadata": {},
   "outputs": [
    {
     "data": {
      "application/vnd.jupyter.widget-view+json": {
       "model_id": "d8cb0d3abf254abbb15346643a09531b",
       "version_major": 2,
       "version_minor": 0
      },
      "text/plain": [
       "interactive(children=(IntSlider(value=0, description='Slice', max=37), Output()), _dom_classes=('widget-intera…"
      ]
     },
     "metadata": {},
     "output_type": "display_data"
    },
    {
     "data": {
      "text/plain": [
       "<function __main__.plot_slice(z_index, image, plane, segmentation)>"
      ]
     },
     "execution_count": 53,
     "metadata": {},
     "output_type": "execute_result"
    }
   ],
   "source": [
    "interact(plot_slice, z_index=z_slider, image = fixed(ct_image), plane=fixed(plane2), segmentation=fixed(segmentation))"
   ]
  },
  {
   "cell_type": "markdown",
   "id": "952a23ec-8c21-4ab7-8838-376a12a00288",
   "metadata": {},
   "source": [
    "# Calculate curve through anterior and posterior falx & septum pellucidum?? unsure"
   ]
  },
  {
   "cell_type": "code",
   "execution_count": 89,
   "id": "bef72717-c954-4b10-829d-ca35a59cc5c1",
   "metadata": {},
   "outputs": [
    {
     "name": "stdout",
     "output_type": "stream",
     "text": [
      "Centroid of the septum pellucidum points: [235. 241.  22.]\n",
      "Centroid of the anterior falx points: [271.69029851 136.73880597  25.94029851]\n",
      "Centroid of the posterior falx points: [219.75  410.375  21.5  ]\n"
     ]
    }
   ],
   "source": [
    "sp = np.mean(sp_points, axis=0)\n",
    "af = np.mean(af_points, axis=0)\n",
    "pf = np.mean(pf_points, axis=0)\n",
    "print(f\"Centroid of the septum pellucidum points: {sp}\")\n",
    "print(f\"Centroid of the anterior falx points: {af}\") # pas sur.... la composante en z ne sera pas la même que le sp\n",
    "print(f\"Centroid of the posterior falx points: {pf}\") # idem. peut-être que utiliser la ligne médiane calculée serait une meilleure approche"
   ]
  },
  {
   "cell_type": "code",
   "execution_count": 93,
   "id": "bd639bf6-c798-4d9e-bfa5-99120c5b9240",
   "metadata": {},
   "outputs": [],
   "source": [
    "control_points = np.array([af, sp, pf])"
   ]
  },
  {
   "cell_type": "code",
   "execution_count": 95,
   "id": "3ea3ba1d-1863-41a1-8e33-c6e336ea581f",
   "metadata": {},
   "outputs": [
    {
     "data": {
      "text/plain": [
       "array([[271.69029851, 136.73880597,  25.94029851],\n",
       "       [235.        , 241.        ,  22.        ],\n",
       "       [219.75      , 410.375     ,  21.5       ]])"
      ]
     },
     "execution_count": 95,
     "metadata": {},
     "output_type": "execute_result"
    }
   ],
   "source": [
    "control_points"
   ]
  },
  {
   "cell_type": "code",
   "execution_count": 96,
   "id": "be0a2f91-7adb-48f0-9255-c61f39c576f6",
   "metadata": {},
   "outputs": [],
   "source": [
    "def bezier_curve(t, control_points):\n",
    "    n = len(control_points) - 1\n",
    "    return sum(\n",
    "        [comb(n, i) * (1 - t)**(n - i) * t**i * control_points[i] for i in range(n + 1)]\n",
    "    )"
   ]
  },
  {
   "cell_type": "code",
   "execution_count": 97,
   "id": "b20af091-7548-456e-bdb9-44342ce4c104",
   "metadata": {},
   "outputs": [],
   "source": [
    "t_values = np.linspace(0, 1, 100)"
   ]
  },
  {
   "cell_type": "code",
   "execution_count": 101,
   "id": "1f02872b-f30d-44c0-adb5-74de172bb11a",
   "metadata": {},
   "outputs": [],
   "source": [
    "bezier_points = np.array([bezier_curve(t, control_points) for t in t_values])"
   ]
  },
  {
   "cell_type": "markdown",
   "id": "1a86c93b-fa4b-442b-aa3e-2b822b90b11b",
   "metadata": {},
   "source": [
    "# Calculate distance between centroid of SP segmentation & calculated midline (with 1st approach for midline)"
   ]
  },
  {
   "cell_type": "code",
   "execution_count": 124,
   "id": "b63b3a40-b90c-405e-b55f-da1717a1b4b5",
   "metadata": {},
   "outputs": [
    {
     "name": "stdout",
     "output_type": "stream",
     "text": [
      "Plane equation: -5.19x + -1.0000000000y + 0.00z + 1549.51 = 0\n"
     ]
    }
   ],
   "source": [
    "print(f\"Plane equation: {A1:.2f}x + {B1:.10f}y + {C1:.2f}z + {D1:.2f} = 0\")"
   ]
  },
  {
   "cell_type": "code",
   "execution_count": 129,
   "id": "f0f8134b-7aae-4ecb-9b3c-4fcb5904b9cc",
   "metadata": {},
   "outputs": [],
   "source": [
    "# So equation of line at z = 22 is: -5.19x - y + 1549.51 = 0 \n",
    "# Distance between point = (x0, y0) and line of equation ax+by+c=0 is given by abs(a * x0 + b*yo + c) / sqrt(a**2 + b**2)\n",
    "def distance_point_to_line(a, b, c, point):\n",
    "    x0, y0, _ = point\n",
    "    distance = abs(a * x0 + b * y0 + c) / np.sqrt(a**2 + b**2)\n",
    "    return distance"
   ]
  },
  {
   "cell_type": "code",
   "execution_count": 141,
   "id": "0191bd6c-86f9-4731-84dc-04f4ca5ef063",
   "metadata": {},
   "outputs": [
    {
     "name": "stdout",
     "output_type": "stream",
     "text": [
      "Midline shift: 8.312 mm\n"
     ]
    }
   ],
   "source": [
    "distance = distance_point_to_line(A1, B1, D1, sp) * ct_image_header['space directions'][0][0]\n",
    "print(f\"Midline shift: {distance:.3f} mm\")"
   ]
  }
 ],
 "metadata": {
  "kernelspec": {
   "display_name": "Python 3 (ipykernel)",
   "language": "python",
   "name": "python3"
  },
  "language_info": {
   "codemirror_mode": {
    "name": "ipython",
    "version": 3
   },
   "file_extension": ".py",
   "mimetype": "text/x-python",
   "name": "python",
   "nbconvert_exporter": "python",
   "pygments_lexer": "ipython3",
   "version": "3.12.2"
  }
 },
 "nbformat": 4,
 "nbformat_minor": 5
}
